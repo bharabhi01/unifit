{
 "cells": [
  {
   "cell_type": "code",
   "execution_count": 1,
   "metadata": {},
   "outputs": [],
   "source": [
    "from pose_classification_utils import BootstrapHelper"
   ]
  },
  {
   "cell_type": "code",
   "execution_count": 2,
   "metadata": {},
   "outputs": [],
   "source": [
    "exercise_name = \"squats\"\n",
    "\n",
    "bootstrap_images_in_folder = f'fitness_data/raw_train/{exercise_name}'\n",
    "\n",
    "# Output folders for bootstrapped images and CSVs.\n",
    "bootstrap_images_out_folder = f'fitness_data/processed_train/{exercise_name}/images_out'\n",
    "bootstrap_csvs_out_folder = f'fitness_data/processed_train/{exercise_name}/csvs_out'"
   ]
  },
  {
   "cell_type": "code",
   "execution_count": 3,
   "metadata": {},
   "outputs": [],
   "source": [
    "# Initialize helper.\n",
    "bootstrap_helper = BootstrapHelper(\n",
    "    images_in_folder=bootstrap_images_in_folder,\n",
    "    images_out_folder=bootstrap_images_out_folder,\n",
    "    csvs_out_folder=bootstrap_csvs_out_folder,\n",
    ")"
   ]
  },
  {
   "cell_type": "code",
   "execution_count": null,
   "metadata": {},
   "outputs": [],
   "source": [
    "# Bootstrap all images.\n",
    "# Set limit to some small number for debug.\n",
    "bootstrap_helper.bootstrap(per_pose_class_limit=None)"
   ]
  }
 ],
 "metadata": {
  "interpreter": {
   "hash": "06cf0ec498029f8561fed56a63f8d355b89e528f84c190c1f9869c0e1c0421ca"
  },
  "kernelspec": {
   "display_name": "Python 3.8.10 ('tf')",
   "language": "python",
   "name": "python3"
  },
  "language_info": {
   "codemirror_mode": {
    "name": "ipython",
    "version": 3
   },
   "file_extension": ".py",
   "mimetype": "text/x-python",
   "name": "python",
   "nbconvert_exporter": "python",
   "pygments_lexer": "ipython3",
   "version": "3.8.12"
  },
  "orig_nbformat": 4
 },
 "nbformat": 4,
 "nbformat_minor": 2
}
