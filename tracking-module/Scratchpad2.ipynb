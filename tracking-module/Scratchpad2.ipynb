{
 "cells": [
  {
   "cell_type": "code",
   "execution_count": 2,
   "metadata": {},
   "outputs": [],
   "source": [
    "import os\n",
    "import glob\n",
    "import argparse\n",
    "import cv2\n",
    "import csv\n",
    "from time import time\n",
    "import numpy as np\n",
    "import mediapipe as mp\n",
    "from pose_classification_utils import (\n",
    "    FullBodyPoseEmbedder,\n",
    "    PoseClassifier,\n",
    "    EMADictSmoothing,\n",
    "    RepetitionCounter\n",
    ")\n",
    "from matplotlib import pyplot as plt\n",
    "from scipy.spatial.distance import cosine"
   ]
  },
  {
   "cell_type": "code",
   "execution_count": 3,
   "metadata": {},
   "outputs": [],
   "source": [
    "mp_drawing = mp.solutions.drawing_utils\n",
    "mp_drawing_styles = mp.solutions.drawing_styles\n",
    "mp_pose = mp.solutions.pose"
   ]
  },
  {
   "cell_type": "code",
   "execution_count": 4,
   "metadata": {},
   "outputs": [],
   "source": [
    "def show_image(img, figsize=(10, 10)):\n",
    "    \"\"\"Shows output PIL image.\"\"\"\n",
    "    plt.figure(figsize=figsize)\n",
    "    plt.imshow(cv2.cvtColor(img, cv2.COLOR_BGR2RGB))\n",
    "    plt.show()"
   ]
  },
  {
   "cell_type": "code",
   "execution_count": 5,
   "metadata": {},
   "outputs": [],
   "source": [
    "class PoseSample(object):\n",
    "\n",
    "    def __init__(self, name, landmarks, class_name, embedding):\n",
    "        self.name = name\n",
    "        self.landmarks = landmarks\n",
    "        self.class_name = class_name\n",
    "\n",
    "        self.embedding = embedding"
   ]
  },
  {
   "cell_type": "code",
   "execution_count": 6,
   "metadata": {},
   "outputs": [],
   "source": [
    "class PoseInterpreter(object):\n",
    "    \"\"\"Interpret the pose for accuracy\"\"\"\n",
    "\n",
    "    def __init__(self,\n",
    "                 pose_samples_folder,\n",
    "                 pose_embedder,\n",
    "                 file_extension='csv',\n",
    "                 file_separator=',',\n",
    "                 n_landmarks=33,\n",
    "                 n_dimensions=3,\n",
    "                 top_n_by_max_distance=30,\n",
    "                 top_n_by_mean_distance=10,\n",
    "                 axes_weights=(1., 1., 0.2)):\n",
    "\n",
    "        self._pose_embedder = pose_embedder\n",
    "        self._n_landmarks = n_landmarks\n",
    "        self._n_dimensions = n_dimensions\n",
    "        self._top_n_by_max_distance = top_n_by_max_distance\n",
    "        self._top_n_by_mean_distance = top_n_by_mean_distance\n",
    "        self._axes_weights = axes_weights\n",
    "\n",
    "        self._pose_samples = self._load_pose_samples(pose_samples_folder,\n",
    "                                                     file_extension,\n",
    "                                                     file_separator,\n",
    "                                                     n_landmarks,\n",
    "                                                     n_dimensions,\n",
    "                                                     pose_embedder)\n",
    "\n",
    "    def _load_pose_samples(self,\n",
    "                           pose_samples_folder,\n",
    "                           file_extension,\n",
    "                           file_separator,\n",
    "                           n_landmarks,\n",
    "                           n_dimensions,\n",
    "                           pose_embedder):\n",
    "        \"\"\"Loads pose samples from a given folder.\n",
    "\n",
    "        Required folder structure:\n",
    "          neutral_standing.csv\n",
    "          pushups_down.csv\n",
    "          pushups_up.csv\n",
    "          squats_down.csv\n",
    "          ...\n",
    "\n",
    "        Required CSV structure:\n",
    "          sample_00001,x1,y1,z1,x2,y2,z2,....\n",
    "          sample_00002,x1,y1,z1,x2,y2,z2,....\n",
    "          ...\n",
    "        \"\"\"\n",
    "        # Each file in the folder represents one pose class.\n",
    "        file_names = [name for name in os.listdir(\n",
    "            pose_samples_folder) if name.endswith(file_extension)]\n",
    "\n",
    "        pose_samples = []\n",
    "        for file_name in file_names:\n",
    "            # Use file name as pose class name.\n",
    "            class_name = file_name[:-(len(file_extension) + 1)]\n",
    "\n",
    "            # Parse CSV.\n",
    "            with open(os.path.join(pose_samples_folder, file_name)) as csv_file:\n",
    "                csv_reader = csv.reader(csv_file, delimiter=file_separator)\n",
    "                for row in csv_reader:\n",
    "                    if len(row) == 0:\n",
    "                        continue\n",
    "                    assert len(row) == n_landmarks * n_dimensions + \\\n",
    "                        1, 'Wrong number of values: {}'.format(len(row))\n",
    "                    landmarks = np.array(row[1:], np.float32).reshape(\n",
    "                        [n_landmarks, n_dimensions])\n",
    "                    pose_samples.append(PoseSample(\n",
    "                        name=row[0],\n",
    "                        landmarks=landmarks,\n",
    "                        class_name=class_name,\n",
    "                        embedding=pose_embedder(landmarks),\n",
    "                    ))\n",
    "\n",
    "        return pose_samples\n",
    "\n",
    "    def __call__(self, pose_landmarks):\n",
    "        \"\"\"Classifies given pose.\n",
    "\n",
    "        Classification is done in two stages:\n",
    "          * First we pick top-N samples by MAX distance. It allows to remove samples\n",
    "            that are almost the same as given pose, but has few joints bent in the\n",
    "            other direction.\n",
    "          * Then we pick top-N samples by MEAN distance. After outliers are removed\n",
    "            on a previous step, we can pick samples that are closes on average.\n",
    "\n",
    "        Args:\n",
    "          pose_landmarks: NumPy array with 3D landmarks of shape (N, 3).\n",
    "\n",
    "        Returns:\n",
    "          Dictionary with count of nearest pose samples from the database. Sample:\n",
    "            {\n",
    "              'pushups_down': 8,\n",
    "              'pushups_up': 2,\n",
    "            }\n",
    "        \"\"\"\n",
    "        # Check that provided and target poses have the same shape.\n",
    "        assert pose_landmarks.shape == (\n",
    "            self._n_landmarks, self._n_dimensions), 'Unexpected shape: {}'.format(pose_landmarks.shape)\n",
    "\n",
    "        # Get given pose embedding.\n",
    "        pose_embedding = self._pose_embedder(pose_landmarks)\n",
    "        flipped_pose_embedding = self._pose_embedder(\n",
    "            pose_landmarks * np.array([-1, 1, 1]))\n",
    "\n",
    "        # Filter by max distance.\n",
    "        #\n",
    "        # That helps to remove outliers - poses that are almost the same as the\n",
    "        # given one, but has one joint bent into another direction and actually\n",
    "        # represnt a different pose class.\n",
    "        max_dist_heap = []\n",
    "        for sample_idx, sample in enumerate(self._pose_samples):\n",
    "            max_dist = min(\n",
    "                np.max(np.abs(sample.embedding - pose_embedding)\n",
    "                       * self._axes_weights),\n",
    "                np.max(np.abs(sample.embedding - flipped_pose_embedding)\n",
    "                       * self._axes_weights),\n",
    "            )\n",
    "            max_dist_heap.append([max_dist, sample_idx])\n",
    "\n",
    "        max_dist_heap = sorted(max_dist_heap, key=lambda x: x[0])\n",
    "        max_dist_heap = max_dist_heap[:self._top_n_by_max_distance]\n",
    "\n",
    "        # Filter by mean distance.\n",
    "        #\n",
    "        # After removing outliers we can find the nearest pose by mean distance.\n",
    "        mean_dist_heap = []\n",
    "        for _, sample_idx in max_dist_heap:\n",
    "            sample = self._pose_samples[sample_idx]\n",
    "            mean_dist = min(\n",
    "                np.mean(np.abs(sample.embedding - pose_embedding)\n",
    "                        * self._axes_weights),\n",
    "                np.mean(np.abs(sample.embedding - flipped_pose_embedding)\n",
    "                        * self._axes_weights),\n",
    "            )\n",
    "            mean_dist_heap.append([mean_dist, sample_idx])\n",
    "\n",
    "        mean_dist_heap = sorted(mean_dist_heap, key=lambda x: x[0])\n",
    "        mean_dist_heap = mean_dist_heap[:self._top_n_by_mean_distance]\n",
    "\n",
    "        # Collect results into map: (class_name -> n_samples)\n",
    "        class_names = [\n",
    "            self._pose_samples[sample_idx].class_name for _, sample_idx in mean_dist_heap]\n",
    "        result = {class_name: class_names.count(\n",
    "            class_name) for class_name in set(class_names)}\n",
    "\n",
    "        return result, mean_dist_heap"
   ]
  },
  {
   "cell_type": "code",
   "execution_count": 7,
   "metadata": {},
   "outputs": [],
   "source": [
    "exercise = 'squats'\n",
    "pose_samples_folder = f'fitness_data/processed_train/{exercise}/csvs_out'"
   ]
  },
  {
   "cell_type": "code",
   "execution_count": 8,
   "metadata": {},
   "outputs": [],
   "source": [
    "pose_embedder = FullBodyPoseEmbedder()"
   ]
  },
  {
   "cell_type": "code",
   "execution_count": 9,
   "metadata": {},
   "outputs": [],
   "source": [
    "pose_interpreter = PoseInterpreter(\n",
    "        pose_samples_folder=pose_samples_folder,\n",
    "        pose_embedder=pose_embedder,\n",
    "        top_n_by_max_distance=30,\n",
    "        top_n_by_mean_distance=10)"
   ]
  },
  {
   "cell_type": "code",
   "execution_count": 10,
   "metadata": {},
   "outputs": [],
   "source": [
    "wrong = cv2.imread('test_images/wrong_squat.jpg')\n",
    "right = cv2.imread('test_images/right_squat.jpg')"
   ]
  },
  {
   "cell_type": "code",
   "execution_count": 225,
   "metadata": {},
   "outputs": [],
   "source": [
    "def get_landmarks(image, return_array=True):\n",
    "    with mp_pose.Pose(\n",
    "            min_detection_confidence=0.5,\n",
    "            min_tracking_confidence=0.5,\n",
    "            model_complexity=1) as pose:\n",
    "    \n",
    "        input_frame = cv2.cvtColor(image, cv2.COLOR_BGR2RGB)\n",
    "        result = pose.process(image=input_frame)\n",
    "        pose_landmarks = result.pose_landmarks\n",
    "\n",
    "        if return_array:\n",
    "\n",
    "            frame_height, frame_width = input_frame.shape[0], input_frame.shape[1]\n",
    "            visibility = np.mean([lmk.visibility for lmk in pose_landmarks.landmark])\n",
    "            pose_landmarks = np.array([[lmk.x * frame_width, lmk.y * frame_height, lmk.z * frame_width]\n",
    "                                        for lmk in pose_landmarks.landmark], dtype=np.float32)\n",
    "\n",
    "        return pose_landmarks, result"
   ]
  },
  {
   "cell_type": "code",
   "execution_count": 233,
   "metadata": {},
   "outputs": [
    {
     "data": {
      "text/plain": [
       "('/python/fitness_data/pushups', 'push_down.csv')"
      ]
     },
     "execution_count": 233,
     "metadata": {},
     "output_type": "execute_result"
    }
   ],
   "source": [
    "os.path.split(\"/python/fitness_data/pushups/push_down.csv\")"
   ]
  },
  {
   "cell_type": "code",
   "execution_count": null,
   "metadata": {},
   "outputs": [],
   "source": []
  },
  {
   "cell_type": "code",
   "execution_count": 226,
   "metadata": {},
   "outputs": [],
   "source": [
    "wrong_landmarks = get_landmarks(wrong)\n",
    "right_landmarks = get_landmarks(right, False)"
   ]
  },
  {
   "cell_type": "code",
   "execution_count": 231,
   "metadata": {},
   "outputs": [
    {
     "data": {
      "text/plain": [
       "landmark {\n",
       "  x: 0.4124770164489746\n",
       "  y: 0.31489765644073486\n",
       "  z: -0.320087194442749\n",
       "  visibility: 0.9999226331710815\n",
       "}\n",
       "landmark {\n",
       "  x: 0.41924816370010376\n",
       "  y: 0.30059146881103516\n",
       "  z: -0.28784626722335815\n",
       "  visibility: 0.9999055862426758\n",
       "}\n",
       "landmark {\n",
       "  x: 0.422321081161499\n",
       "  y: 0.30218419432640076\n",
       "  z: -0.2880152761936188\n",
       "  visibility: 0.9999022483825684\n",
       "}\n",
       "landmark {\n",
       "  x: 0.4250374436378479\n",
       "  y: 0.3034431040287018\n",
       "  z: -0.2882159650325775\n",
       "  visibility: 0.9998973608016968\n",
       "}\n",
       "landmark {\n",
       "  x: 0.4064311385154724\n",
       "  y: 0.2938883602619171\n",
       "  z: -0.3114550709724426\n",
       "  visibility: 0.9998748302459717\n",
       "}\n",
       "landmark {\n",
       "  x: 0.40081554651260376\n",
       "  y: 0.29142987728118896\n",
       "  z: -0.3114817440509796\n",
       "  visibility: 0.9998674392700195\n",
       "}\n",
       "landmark {\n",
       "  x: 0.3950314521789551\n",
       "  y: 0.2893002927303314\n",
       "  z: -0.31143712997436523\n",
       "  visibility: 0.9998494386672974\n",
       "}\n",
       "landmark {\n",
       "  x: 0.42086195945739746\n",
       "  y: 0.31067144870758057\n",
       "  z: -0.1298212707042694\n",
       "  visibility: 0.9998821020126343\n",
       "}\n",
       "landmark {\n",
       "  x: 0.37866589426994324\n",
       "  y: 0.2947727143764496\n",
       "  z: -0.22980961203575134\n",
       "  visibility: 0.9998254179954529\n",
       "}\n",
       "landmark {\n",
       "  x: 0.4124426245689392\n",
       "  y: 0.33491867780685425\n",
       "  z: -0.259718120098114\n",
       "  visibility: 0.9998716115951538\n",
       "}\n",
       "landmark {\n",
       "  x: 0.39666515588760376\n",
       "  y: 0.3285086750984192\n",
       "  z: -0.2889043390750885\n",
       "  visibility: 0.9998733997344971\n",
       "}\n",
       "landmark {\n",
       "  x: 0.4092584252357483\n",
       "  y: 0.415949285030365\n",
       "  z: 0.021325431764125824\n",
       "  visibility: 0.9989367127418518\n",
       "}\n",
       "landmark {\n",
       "  x: 0.3357973098754883\n",
       "  y: 0.41137635707855225\n",
       "  z: -0.2987092137336731\n",
       "  visibility: 0.9989919066429138\n",
       "}\n",
       "landmark {\n",
       "  x: 0.4516482949256897\n",
       "  y: 0.5236716270446777\n",
       "  z: -0.08549542725086212\n",
       "  visibility: 0.5976294279098511\n",
       "}\n",
       "landmark {\n",
       "  x: 0.42432481050491333\n",
       "  y: 0.5272518396377563\n",
       "  z: -0.400411993265152\n",
       "  visibility: 0.994988203048706\n",
       "}\n",
       "landmark {\n",
       "  x: 0.5413647294044495\n",
       "  y: 0.4797579050064087\n",
       "  z: -0.34635260701179504\n",
       "  visibility: 0.7320080399513245\n",
       "}\n",
       "landmark {\n",
       "  x: 0.5312089920043945\n",
       "  y: 0.48883360624313354\n",
       "  z: -0.3844190835952759\n",
       "  visibility: 0.9899536371231079\n",
       "}\n",
       "landmark {\n",
       "  x: 0.5708781480789185\n",
       "  y: 0.4774583578109741\n",
       "  z: -0.3878151774406433\n",
       "  visibility: 0.7059682011604309\n",
       "}\n",
       "landmark {\n",
       "  x: 0.5609210729598999\n",
       "  y: 0.48585593700408936\n",
       "  z: -0.424250990152359\n",
       "  visibility: 0.9764116406440735\n",
       "}\n",
       "landmark {\n",
       "  x: 0.5669560432434082\n",
       "  y: 0.46285873651504517\n",
       "  z: -0.39485663175582886\n",
       "  visibility: 0.6927109956741333\n",
       "}\n",
       "landmark {\n",
       "  x: 0.5606414079666138\n",
       "  y: 0.46466416120529175\n",
       "  z: -0.4040766656398773\n",
       "  visibility: 0.9745960235595703\n",
       "}\n",
       "landmark {\n",
       "  x: 0.5557055473327637\n",
       "  y: 0.4593983292579651\n",
       "  z: -0.3589419424533844\n",
       "  visibility: 0.6687196493148804\n",
       "}\n",
       "landmark {\n",
       "  x: 0.5512686371803284\n",
       "  y: 0.4626443088054657\n",
       "  z: -0.3764844238758087\n",
       "  visibility: 0.957590639591217\n",
       "}\n",
       "landmark {\n",
       "  x: 0.35175004601478577\n",
       "  y: 0.6416642069816589\n",
       "  z: 0.10449622571468353\n",
       "  visibility: 0.9956383109092712\n",
       "}\n",
       "landmark {\n",
       "  x: 0.2991654574871063\n",
       "  y: 0.6502453684806824\n",
       "  z: -0.10431511700153351\n",
       "  visibility: 0.9972884654998779\n",
       "}\n",
       "landmark {\n",
       "  x: 0.45907363295555115\n",
       "  y: 0.7313053011894226\n",
       "  z: -0.03623583912849426\n",
       "  visibility: 0.9349353313446045\n",
       "}\n",
       "landmark {\n",
       "  x: 0.4122462868690491\n",
       "  y: 0.7913615107536316\n",
       "  z: -0.298752099275589\n",
       "  visibility: 0.9955730438232422\n",
       "}\n",
       "landmark {\n",
       "  x: 0.41747456789016724\n",
       "  y: 0.8911821246147156\n",
       "  z: 0.20848950743675232\n",
       "  visibility: 0.8997815251350403\n",
       "}\n",
       "landmark {\n",
       "  x: 0.3608178198337555\n",
       "  y: 0.9830452799797058\n",
       "  z: -0.1759052723646164\n",
       "  visibility: 0.9956568479537964\n",
       "}\n",
       "landmark {\n",
       "  x: 0.4002636969089508\n",
       "  y: 0.9138451218605042\n",
       "  z: 0.2291901558637619\n",
       "  visibility: 0.8347244262695312\n",
       "}\n",
       "landmark {\n",
       "  x: 0.342415988445282\n",
       "  y: 0.9912768006324768\n",
       "  z: -0.16608691215515137\n",
       "  visibility: 0.9617434144020081\n",
       "}\n",
       "landmark {\n",
       "  x: 0.47020235657691956\n",
       "  y: 0.9331411123275757\n",
       "  z: 0.1798340082168579\n",
       "  visibility: 0.8908678889274597\n",
       "}\n",
       "landmark {\n",
       "  x: 0.4151288866996765\n",
       "  y: 1.0612958669662476\n",
       "  z: -0.26655134558677673\n",
       "  visibility: 0.990126371383667\n",
       "}"
      ]
     },
     "execution_count": 231,
     "metadata": {},
     "output_type": "execute_result"
    }
   ],
   "source": [
    "wrong_landmarks[1].pose_landmarks"
   ]
  },
  {
   "cell_type": "code",
   "execution_count": 13,
   "metadata": {},
   "outputs": [],
   "source": [
    "sample_landmarks = [s.landmarks for s in pose_interpreter._pose_samples]"
   ]
  },
  {
   "cell_type": "code",
   "execution_count": 16,
   "metadata": {},
   "outputs": [],
   "source": [
    "guide = [\n",
    "    {\n",
    "        'joints': [\n",
    "            ['left_hip', 'right_hip'],\n",
    "            ['left_ankle', 'right_ankle']\n",
    "        ], \n",
    "        'criteria': 'distance'\n",
    "    }  \n",
    "]"
   ]
  },
  {
   "cell_type": "code",
   "execution_count": 17,
   "metadata": {},
   "outputs": [
    {
     "data": {
      "text/plain": [
       "array([2.0829297e+02, 3.1005829e+02, 5.7956696e-02], dtype=float32)"
      ]
     },
     "execution_count": 17,
     "metadata": {},
     "output_type": "execute_result"
    }
   ],
   "source": [
    "pose_embedder._get_average_by_names(wrong_landmarks, guide[0]['joints'][0][0], guide[0]['joints'][0][1])"
   ]
  },
  {
   "cell_type": "code",
   "execution_count": 18,
   "metadata": {},
   "outputs": [
    {
     "data": {
      "text/plain": [
       "array([2.0829297e+02, 3.1005829e+02, 5.7956696e-02], dtype=float32)"
      ]
     },
     "execution_count": 18,
     "metadata": {},
     "output_type": "execute_result"
    }
   ],
   "source": [
    "pose_embedder._get_average_by_names(wrong_landmarks, guide[0]['joints'][0][0], guide[0]['joints'][0][1])"
   ]
  },
  {
   "cell_type": "code",
   "execution_count": 19,
   "metadata": {},
   "outputs": [
    {
     "data": {
      "text/plain": [
       "array([ 40.76059  , 139.75629  ,  10.3689995], dtype=float32)"
      ]
     },
     "execution_count": 19,
     "metadata": {},
     "output_type": "execute_result"
    }
   ],
   "source": [
    "pose_embedder._get_distance(\n",
    "    pose_embedder._get_average_by_names(wrong_landmarks, guide[0]['joints'][0][0], guide[0]['joints'][0][1]),\n",
    "    pose_embedder._get_average_by_names(wrong_landmarks, guide[0]['joints'][1][0], guide[0]['joints'][1][1]),\n",
    ")"
   ]
  },
  {
   "cell_type": "code",
   "execution_count": 20,
   "metadata": {},
   "outputs": [
    {
     "ename": "TypeError",
     "evalue": "'NormalizedLandmarkList' object is not subscriptable",
     "output_type": "error",
     "traceback": [
      "\u001b[1;31m---------------------------------------------------------------------------\u001b[0m",
      "\u001b[1;31mTypeError\u001b[0m                                 Traceback (most recent call last)",
      "\u001b[1;32m~\\AppData\\Local\\Temp/ipykernel_21064/112777927.py\u001b[0m in \u001b[0;36m<module>\u001b[1;34m\u001b[0m\n\u001b[0;32m      1\u001b[0m pose_embedder._get_distance(\n\u001b[1;32m----> 2\u001b[1;33m     \u001b[0mpose_embedder\u001b[0m\u001b[1;33m.\u001b[0m\u001b[0m_get_average_by_names\u001b[0m\u001b[1;33m(\u001b[0m\u001b[0mright_landmarks\u001b[0m\u001b[1;33m,\u001b[0m \u001b[0mguide\u001b[0m\u001b[1;33m[\u001b[0m\u001b[1;36m0\u001b[0m\u001b[1;33m]\u001b[0m\u001b[1;33m[\u001b[0m\u001b[1;34m'joints'\u001b[0m\u001b[1;33m]\u001b[0m\u001b[1;33m[\u001b[0m\u001b[1;36m0\u001b[0m\u001b[1;33m]\u001b[0m\u001b[1;33m[\u001b[0m\u001b[1;36m0\u001b[0m\u001b[1;33m]\u001b[0m\u001b[1;33m,\u001b[0m \u001b[0mguide\u001b[0m\u001b[1;33m[\u001b[0m\u001b[1;36m0\u001b[0m\u001b[1;33m]\u001b[0m\u001b[1;33m[\u001b[0m\u001b[1;34m'joints'\u001b[0m\u001b[1;33m]\u001b[0m\u001b[1;33m[\u001b[0m\u001b[1;36m0\u001b[0m\u001b[1;33m]\u001b[0m\u001b[1;33m[\u001b[0m\u001b[1;36m1\u001b[0m\u001b[1;33m]\u001b[0m\u001b[1;33m)\u001b[0m\u001b[1;33m,\u001b[0m\u001b[1;33m\u001b[0m\u001b[1;33m\u001b[0m\u001b[0m\n\u001b[0m\u001b[0;32m      3\u001b[0m     \u001b[0mpose_embedder\u001b[0m\u001b[1;33m.\u001b[0m\u001b[0m_get_average_by_names\u001b[0m\u001b[1;33m(\u001b[0m\u001b[0mright_landmarks\u001b[0m\u001b[1;33m,\u001b[0m \u001b[0mguide\u001b[0m\u001b[1;33m[\u001b[0m\u001b[1;36m0\u001b[0m\u001b[1;33m]\u001b[0m\u001b[1;33m[\u001b[0m\u001b[1;34m'joints'\u001b[0m\u001b[1;33m]\u001b[0m\u001b[1;33m[\u001b[0m\u001b[1;36m1\u001b[0m\u001b[1;33m]\u001b[0m\u001b[1;33m[\u001b[0m\u001b[1;36m0\u001b[0m\u001b[1;33m]\u001b[0m\u001b[1;33m,\u001b[0m \u001b[0mguide\u001b[0m\u001b[1;33m[\u001b[0m\u001b[1;36m0\u001b[0m\u001b[1;33m]\u001b[0m\u001b[1;33m[\u001b[0m\u001b[1;34m'joints'\u001b[0m\u001b[1;33m]\u001b[0m\u001b[1;33m[\u001b[0m\u001b[1;36m1\u001b[0m\u001b[1;33m]\u001b[0m\u001b[1;33m[\u001b[0m\u001b[1;36m1\u001b[0m\u001b[1;33m]\u001b[0m\u001b[1;33m)\u001b[0m\u001b[1;33m,\u001b[0m\u001b[1;33m\u001b[0m\u001b[1;33m\u001b[0m\u001b[0m\n\u001b[0;32m      4\u001b[0m )\n",
      "\u001b[1;32md:\\Projects\\UniFit\\tracking-module\\pose_classification_utils.py\u001b[0m in \u001b[0;36m_get_average_by_names\u001b[1;34m(self, landmarks, name_from, name_to)\u001b[0m\n\u001b[0;32m    218\u001b[0m \u001b[1;33m\u001b[0m\u001b[0m\n\u001b[0;32m    219\u001b[0m     \u001b[1;32mdef\u001b[0m \u001b[0m_get_average_by_names\u001b[0m\u001b[1;33m(\u001b[0m\u001b[0mself\u001b[0m\u001b[1;33m,\u001b[0m \u001b[0mlandmarks\u001b[0m\u001b[1;33m,\u001b[0m \u001b[0mname_from\u001b[0m\u001b[1;33m,\u001b[0m \u001b[0mname_to\u001b[0m\u001b[1;33m)\u001b[0m\u001b[1;33m:\u001b[0m\u001b[1;33m\u001b[0m\u001b[1;33m\u001b[0m\u001b[0m\n\u001b[1;32m--> 220\u001b[1;33m         \u001b[0mlmk_from\u001b[0m \u001b[1;33m=\u001b[0m \u001b[0mlandmarks\u001b[0m\u001b[1;33m[\u001b[0m\u001b[0mself\u001b[0m\u001b[1;33m.\u001b[0m\u001b[0m_landmark_names\u001b[0m\u001b[1;33m.\u001b[0m\u001b[0mindex\u001b[0m\u001b[1;33m(\u001b[0m\u001b[0mname_from\u001b[0m\u001b[1;33m)\u001b[0m\u001b[1;33m]\u001b[0m\u001b[1;33m\u001b[0m\u001b[1;33m\u001b[0m\u001b[0m\n\u001b[0m\u001b[0;32m    221\u001b[0m         \u001b[0mlmk_to\u001b[0m \u001b[1;33m=\u001b[0m \u001b[0mlandmarks\u001b[0m\u001b[1;33m[\u001b[0m\u001b[0mself\u001b[0m\u001b[1;33m.\u001b[0m\u001b[0m_landmark_names\u001b[0m\u001b[1;33m.\u001b[0m\u001b[0mindex\u001b[0m\u001b[1;33m(\u001b[0m\u001b[0mname_to\u001b[0m\u001b[1;33m)\u001b[0m\u001b[1;33m]\u001b[0m\u001b[1;33m\u001b[0m\u001b[1;33m\u001b[0m\u001b[0m\n\u001b[0;32m    222\u001b[0m         \u001b[1;32mreturn\u001b[0m \u001b[1;33m(\u001b[0m\u001b[0mlmk_from\u001b[0m \u001b[1;33m+\u001b[0m \u001b[0mlmk_to\u001b[0m\u001b[1;33m)\u001b[0m \u001b[1;33m*\u001b[0m \u001b[1;36m0.5\u001b[0m\u001b[1;33m\u001b[0m\u001b[1;33m\u001b[0m\u001b[0m\n",
      "\u001b[1;31mTypeError\u001b[0m: 'NormalizedLandmarkList' object is not subscriptable"
     ]
    }
   ],
   "source": [
    "pose_embedder._get_distance(\n",
    "    pose_embedder._get_average_by_names(right_landmarks, guide[0]['joints'][0][0], guide[0]['joints'][0][1]),\n",
    "    pose_embedder._get_average_by_names(right_landmarks, guide[0]['joints'][1][0], guide[0]['joints'][1][1]),\n",
    ")"
   ]
  },
  {
   "cell_type": "code",
   "execution_count": 25,
   "metadata": {},
   "outputs": [],
   "source": [
    "def get_streaming_landmarks(frames, return_array=True):\n",
    "    video_pose_landmarks = []\n",
    "    with mp_pose.Pose(\n",
    "            min_detection_confidence=0.5,\n",
    "            min_tracking_confidence=0.5,\n",
    "            model_complexity=1) as pose:\n",
    "\n",
    "        for image in frames:\n",
    "\n",
    "            input_frame = cv2.cvtColor(image, cv2.COLOR_BGR2RGB)\n",
    "            result = pose.process(image=input_frame)\n",
    "            pose_landmarks = result.pose_landmarks\n",
    "\n",
    "            if return_array:\n",
    "                frame_height, frame_width = input_frame.shape[0], input_frame.shape[1]\n",
    "                pose_landmarks = np.array([[lmk.x * frame_width, lmk.y * frame_height, lmk.z * frame_width]\n",
    "                                            for lmk in pose_landmarks.landmark], dtype=np.float32)\n",
    "\n",
    "            video_pose_landmarks.append(pose_landmarks)\n",
    "\n",
    "    return video_pose_landmarks"
   ]
  },
  {
   "cell_type": "code",
   "execution_count": 26,
   "metadata": {},
   "outputs": [],
   "source": [
    "exercise = 'squats'\n",
    "state = 'squats_down'\n",
    "ref_dir = f'fitness_data/videos/{exercise}/{state}'"
   ]
  },
  {
   "cell_type": "code",
   "execution_count": 27,
   "metadata": {},
   "outputs": [],
   "source": [
    "image_paths = glob.glob(f\"{ref_dir}/*.jpg\")\n",
    "image_paths = sorted(image_paths, key=lambda x: int(x.split('_')[-1].split('.')[0]))"
   ]
  },
  {
   "cell_type": "code",
   "execution_count": 28,
   "metadata": {},
   "outputs": [],
   "source": [
    "ref_images = [cv2.imread(img) for img in image_paths]"
   ]
  },
  {
   "cell_type": "code",
   "execution_count": 29,
   "metadata": {},
   "outputs": [],
   "source": [
    "ref_landmarks = get_streaming_landmarks(ref_images)"
   ]
  },
  {
   "cell_type": "code",
   "execution_count": 32,
   "metadata": {},
   "outputs": [],
   "source": [
    "wrong_landmarks = get_landmarks(wrong)\n",
    "right_landmarks = get_landmarks(right)"
   ]
  },
  {
   "cell_type": "code",
   "execution_count": 33,
   "metadata": {},
   "outputs": [],
   "source": [
    "wrong_embedding = pose_embedder(wrong_landmarks)\n",
    "right_embedding = pose_embedder(wrong_landmarks)"
   ]
  },
  {
   "cell_type": "code",
   "execution_count": 34,
   "metadata": {},
   "outputs": [],
   "source": [
    "wrong_embedding2 = pose_embedder(ref_landmarks[-1])"
   ]
  },
  {
   "cell_type": "code",
   "execution_count": 35,
   "metadata": {},
   "outputs": [],
   "source": [
    "flipped_wrong_embedding = pose_embedder(\n",
    "            wrong_landmarks * np.array([-1, 1, 1]))\n",
    "\n",
    "flipped_wrong_embedding2 = pose_embedder(\n",
    "            ref_landmarks[-1] * np.array([-1, 1, 1]))"
   ]
  },
  {
   "cell_type": "code",
   "execution_count": 57,
   "metadata": {},
   "outputs": [],
   "source": [
    "sample_embeddings = [s.embedding for s in pose_interpreter._pose_samples]"
   ]
  },
  {
   "cell_type": "code",
   "execution_count": 66,
   "metadata": {},
   "outputs": [
    {
     "data": {
      "text/plain": [
       "(23, 3)"
      ]
     },
     "execution_count": 66,
     "metadata": {},
     "output_type": "execute_result"
    }
   ],
   "source": [
    "sample_embeddings[0].shape"
   ]
  },
  {
   "cell_type": "code",
   "execution_count": 94,
   "metadata": {},
   "outputs": [],
   "source": [
    "p1, p2, p3 = right_landmarks[[23, 25, 27]]"
   ]
  },
  {
   "cell_type": "code",
   "execution_count": 109,
   "metadata": {},
   "outputs": [],
   "source": [
    "def compute_joint_angle(landmarks, joints):\n",
    "    assert len(joints) == 3, 'Angle can only be calculated between 3 points'\n",
    "\n",
    "    points = []\n",
    "    for j in joints:\n",
    "        p = landmarks[pose_embedder._landmark_names.index(j)]\n",
    "        points.append(p)\n",
    "    \n",
    "    p1, p2, p3 = points\n",
    "\n",
    "    angle = calculate_angle(p1, p2, p3)\n",
    "    \n",
    "    return angle"
   ]
  },
  {
   "cell_type": "code",
   "execution_count": 130,
   "metadata": {},
   "outputs": [],
   "source": [
    "def check_squats(pose_state: str, landmarks: np.array):\n",
    "    '''Criteria for Squats\n",
    "    -> Squats Down Knee Angle is less than 45\n",
    "    -> Squats Up is skipped\n",
    "    '''\n",
    "    if pose_state == 'squats_down':\n",
    "        knee_angle = np.mean([\n",
    "            compute_joint_angle(landmarks, ['left_hip', 'left_knee', 'left_ankle']),\n",
    "            compute_joint_angle(landmarks, ['right_hip', 'right_knee', 'right_ankle'])\n",
    "        ])\n",
    "        print(knee_angle)\n",
    "\n",
    "        if knee_angle <= 46:\n",
    "            return True, 'Good Job'\n",
    "        elif knee_angle > 46:\n",
    "            return False, 'Bend your knees further'\n",
    "    else:\n",
    "        return True, None"
   ]
  },
  {
   "cell_type": "code",
   "execution_count": 132,
   "metadata": {},
   "outputs": [],
   "source": [
    "a = {'up': 8, 'down': 2}"
   ]
  },
  {
   "cell_type": "code",
   "execution_count": 135,
   "metadata": {},
   "outputs": [
    {
     "data": {
      "text/plain": [
       "'up'"
      ]
     },
     "execution_count": 135,
     "metadata": {},
     "output_type": "execute_result"
    }
   ],
   "source": [
    "sorted(a.items(), key=lambda x: x[1], reverse=True)[0][0]"
   ]
  },
  {
   "cell_type": "code",
   "execution_count": 139,
   "metadata": {},
   "outputs": [
    {
     "data": {
      "text/plain": [
       "2.0"
      ]
     },
     "execution_count": 139,
     "metadata": {},
     "output_type": "execute_result"
    }
   ],
   "source": [
    "np.mean([2, 3]).round()"
   ]
  },
  {
   "cell_type": "code",
   "execution_count": null,
   "metadata": {},
   "outputs": [],
   "source": []
  },
  {
   "cell_type": "code",
   "execution_count": 127,
   "metadata": {},
   "outputs": [],
   "source": [
    "pose_critic = {\n",
    "    'squats': check_squats\n",
    "}"
   ]
  },
  {
   "cell_type": "code",
   "execution_count": 129,
   "metadata": {},
   "outputs": [
    {
     "name": "stdout",
     "output_type": "stream",
     "text": [
      "37.930800000000005\n"
     ]
    },
    {
     "data": {
      "text/plain": [
       "(True, None)"
      ]
     },
     "execution_count": 129,
     "metadata": {},
     "output_type": "execute_result"
    }
   ],
   "source": [
    "pose_critic['squats']('squats_up', right_landmarks)"
   ]
  },
  {
   "cell_type": "code",
   "execution_count": 103,
   "metadata": {},
   "outputs": [
    {
     "data": {
      "text/plain": [
       "47.8298"
      ]
     },
     "execution_count": 103,
     "metadata": {},
     "output_type": "execute_result"
    }
   ],
   "source": [
    "compute_joint_angle(ref_landmarks[-1], ['left_hip', 'left_knee', 'left_ankle'])"
   ]
  },
  {
   "cell_type": "code",
   "execution_count": 104,
   "metadata": {},
   "outputs": [
    {
     "data": {
      "text/plain": [
       "42.5727"
      ]
     },
     "execution_count": 104,
     "metadata": {},
     "output_type": "execute_result"
    }
   ],
   "source": [
    "compute_joint_angle(ref_landmarks[-1], ['right_hip', 'right_knee', 'right_ankle'])"
   ]
  },
  {
   "cell_type": "code",
   "execution_count": 102,
   "metadata": {},
   "outputs": [
    {
     "data": {
      "text/plain": [
       "37.5"
      ]
     },
     "execution_count": 102,
     "metadata": {},
     "output_type": "execute_result"
    }
   ],
   "source": [
    "(40 + 35) / 2"
   ]
  },
  {
   "cell_type": "code",
   "execution_count": 105,
   "metadata": {},
   "outputs": [
    {
     "data": {
      "text/plain": [
       "44.5"
      ]
     },
     "execution_count": 105,
     "metadata": {},
     "output_type": "execute_result"
    }
   ],
   "source": [
    "(47 + 42) / 2"
   ]
  },
  {
   "cell_type": "code",
   "execution_count": null,
   "metadata": {},
   "outputs": [],
   "source": []
  },
  {
   "cell_type": "code",
   "execution_count": 36,
   "metadata": {},
   "outputs": [
    {
     "data": {
      "text/plain": [
       "array([[ 14.567765,  41.479027,  23.049997],\n",
       "       [ 13.665173,  55.32354 , -15.86788 ]], dtype=float32)"
      ]
     },
     "execution_count": 36,
     "metadata": {},
     "output_type": "execute_result"
    }
   ],
   "source": [
    "right_embedding[11:13]"
   ]
  },
  {
   "cell_type": "code",
   "execution_count": 37,
   "metadata": {},
   "outputs": [
    {
     "data": {
      "text/plain": [
       "array([[ 21.088562,  43.21163 , -24.614782],\n",
       "       [ 17.80828 ,  52.5922  , -55.031704]], dtype=float32)"
      ]
     },
     "execution_count": 37,
     "metadata": {},
     "output_type": "execute_result"
    }
   ],
   "source": [
    "wrong_embedding2[11:13]"
   ]
  },
  {
   "cell_type": "code",
   "execution_count": 54,
   "metadata": {},
   "outputs": [
    {
     "data": {
      "text/plain": [
       "0.0"
      ]
     },
     "execution_count": 54,
     "metadata": {},
     "output_type": "execute_result"
    }
   ],
   "source": [
    "cosine(right_embedding[11:13].reshape(-1), right_embedding[11:13].reshape(-1))"
   ]
  },
  {
   "cell_type": "code",
   "execution_count": null,
   "metadata": {},
   "outputs": [],
   "source": []
  },
  {
   "cell_type": "code",
   "execution_count": 230,
   "metadata": {},
   "outputs": [],
   "source": [
    "mean_dist = min(\n",
    "                np.mean(np.abs((right_embedding[11:13] - wrong_embedding[11:13])\n",
    "                        )),\n",
    "                np.mean(np.abs((right_embedding[11:13] - flipped_wrong_embedding[11:13])\n",
    "                        )),\n",
    "            )"
   ]
  },
  {
   "cell_type": "code",
   "execution_count": 231,
   "metadata": {},
   "outputs": [
    {
     "data": {
      "text/plain": [
       "7.9725227"
      ]
     },
     "execution_count": 231,
     "metadata": {},
     "output_type": "execute_result"
    }
   ],
   "source": [
    "mean_dist"
   ]
  },
  {
   "cell_type": "code",
   "execution_count": 210,
   "metadata": {},
   "outputs": [
    {
     "data": {
      "text/plain": [
       "[4.365752372188844, 8]"
      ]
     },
     "execution_count": 210,
     "metadata": {},
     "output_type": "execute_result"
    }
   ],
   "source": [
    "min(pose_interpreter(ref_landmarks[-1])[1], key=lambda x: x[0])"
   ]
  },
  {
   "cell_type": "code",
   "execution_count": 211,
   "metadata": {},
   "outputs": [
    {
     "data": {
      "text/plain": [
       "[4.995928324823795, 3]"
      ]
     },
     "execution_count": 211,
     "metadata": {},
     "output_type": "execute_result"
    }
   ],
   "source": [
    "min(pose_interpreter(wrong_landmarks)[1], key=lambda x: x[0])"
   ]
  },
  {
   "cell_type": "code",
   "execution_count": 165,
   "metadata": {},
   "outputs": [],
   "source": [
    "pdr = cv2.imread('test_images/push_down.jpg')\n",
    "puw = cv2.imread('test_images/push_up_wrong.jpg')"
   ]
  },
  {
   "cell_type": "code",
   "execution_count": 166,
   "metadata": {},
   "outputs": [],
   "source": [
    "pdr_landmarks = get_landmarks(pdr)\n",
    "puw_landmarks = get_landmarks(puw)"
   ]
  },
  {
   "cell_type": "code",
   "execution_count": 149,
   "metadata": {},
   "outputs": [],
   "source": [
    "landmark_names = [\n",
    "    'nose',\n",
    "    'left_eye_inner', 'left_eye', 'left_eye_outer',\n",
    "    'right_eye_inner', 'right_eye', 'right_eye_outer',\n",
    "    'left_ear', 'right_ear',\n",
    "    'mouth_left', 'mouth_right',\n",
    "    'left_shoulder', 'right_shoulder',\n",
    "    'left_elbow', 'right_elbow',\n",
    "    'left_wrist', 'right_wrist',\n",
    "    'left_pinky_1', 'right_pinky_1',\n",
    "    'left_index_1', 'right_index_1',\n",
    "    'left_thumb_2', 'right_thumb_2',\n",
    "    'left_hip', 'right_hip',\n",
    "    'left_knee', 'right_knee',\n",
    "    'left_ankle', 'right_ankle',\n",
    "    'left_heel', 'right_heel',\n",
    "    'left_foot_index', 'right_foot_index',\n",
    "]"
   ]
  },
  {
   "cell_type": "code",
   "execution_count": 176,
   "metadata": {},
   "outputs": [],
   "source": [
    "from sklearn.linear_model import LinearRegression\n",
    "from sklearn.metrics import mean_absolute_percentage_error"
   ]
  },
  {
   "cell_type": "code",
   "execution_count": 222,
   "metadata": {},
   "outputs": [],
   "source": [
    "def check_body_straight(landmarks):\n",
    "    torso_joints = ['left_shoulder', \n",
    "                    'right_shoulder', \n",
    "                    'left_hip', \n",
    "                    'right_hip', \n",
    "                    'left_knee', \n",
    "                    'right_knee', \n",
    "                    'left_ankle', \n",
    "                    'right_ankle']\n",
    "                    \n",
    "    points = np.array([landmarks[landmark_names.index(j)] for j in torso_joints])\n",
    "\n",
    "    line_model = LinearRegression()\n",
    "    line_model.fit(points[:, :1], points[:, 1]) # use X and Y only for now\n",
    "\n",
    "    return mean_absolute_percentage_error(points[:, 1], line_model.predict(points[:, :1]))"
   ]
  },
  {
   "cell_type": "code",
   "execution_count": 223,
   "metadata": {},
   "outputs": [],
   "source": [
    "def check_pushup(img_path):\n",
    "    image = cv2.imread(img_path)\n",
    "    landmarks = get_landmarks(image)\n",
    "    return check_body_straight(landmarks)"
   ]
  },
  {
   "cell_type": "code",
   "execution_count": 224,
   "metadata": {},
   "outputs": [
    {
     "data": {
      "text/plain": [
       "0.020615766"
      ]
     },
     "execution_count": 224,
     "metadata": {},
     "output_type": "execute_result"
    }
   ],
   "source": [
    "check_pushup('test_images/push_up_right.jpg')"
   ]
  },
  {
   "cell_type": "code",
   "execution_count": 157,
   "metadata": {},
   "outputs": [],
   "source": []
  },
  {
   "cell_type": "code",
   "execution_count": 158,
   "metadata": {},
   "outputs": [],
   "source": []
  },
  {
   "cell_type": "code",
   "execution_count": 162,
   "metadata": {},
   "outputs": [
    {
     "data": {
      "text/plain": [
       "LinearRegression()"
      ]
     },
     "execution_count": 162,
     "metadata": {},
     "output_type": "execute_result"
    }
   ],
   "source": []
  },
  {
   "cell_type": "code",
   "execution_count": 163,
   "metadata": {},
   "outputs": [],
   "source": []
  },
  {
   "cell_type": "code",
   "execution_count": 164,
   "metadata": {},
   "outputs": [
    {
     "data": {
      "text/plain": [
       "0.027879482"
      ]
     },
     "execution_count": 164,
     "metadata": {},
     "output_type": "execute_result"
    }
   ],
   "source": []
  },
  {
   "cell_type": "code",
   "execution_count": 148,
   "metadata": {},
   "outputs": [
    {
     "data": {
      "text/plain": [
       "array([[ 287.50854 ,  423.53262 , -125.35507 ],\n",
       "       [ 280.6787  ,  424.20044 , -147.28148 ],\n",
       "       [ 281.39294 ,  424.55844 , -147.29375 ],\n",
       "       [ 282.1515  ,  424.93127 , -147.34798 ],\n",
       "       [ 277.65582 ,  421.40918 , -126.35826 ],\n",
       "       [ 276.36295 ,  419.70807 , -126.35773 ],\n",
       "       [ 275.19223 ,  418.01562 , -126.362045],\n",
       "       [ 286.667   ,  417.3192  , -196.14108 ],\n",
       "       [ 278.26483 ,  406.61313 , -103.23039 ],\n",
       "       [ 295.76843 ,  419.1228  , -137.17993 ],\n",
       "       [ 293.51373 ,  415.71304 , -110.369995],\n",
       "       [ 341.2537  ,  395.54895 , -198.71936 ],\n",
       "       [ 303.8901  ,  358.1392  ,  -40.97414 ],\n",
       "       [ 410.18082 ,  412.12436 , -206.94943 ],\n",
       "       [ 319.69418 ,  367.3406  ,   68.60828 ],\n",
       "       [ 385.31116 ,  473.64368 , -196.00012 ],\n",
       "       [ 295.9261  ,  406.83948 ,  150.81403 ],\n",
       "       [ 380.2906  ,  484.17142 , -217.62086 ],\n",
       "       [ 279.8606  ,  406.5147  ,  159.4475  ],\n",
       "       [ 367.31592 ,  480.65408 , -209.86296 ],\n",
       "       [ 283.07175 ,  412.0782  ,  145.28795 ],\n",
       "       [ 370.2152  ,  475.65793 , -192.99649 ],\n",
       "       [ 292.1967  ,  413.35117 ,  146.67163 ],\n",
       "       [ 433.5413  ,  382.3436  ,  -54.803654],\n",
       "       [ 419.36267 ,  364.61606 ,   54.72868 ],\n",
       "       [ 502.75668 ,  372.4261  ,   72.10917 ],\n",
       "       [ 494.71494 ,  361.92102 ,  169.71983 ],\n",
       "       [ 575.1761  ,  353.10315 ,  191.47275 ],\n",
       "       [ 561.0673  ,  350.6305  ,  294.58087 ],\n",
       "       [ 588.8763  ,  343.55576 ,  203.5304  ],\n",
       "       [ 574.49255 ,  343.31372 ,  308.19647 ],\n",
       "       [ 581.75104 ,  381.41962 ,  175.53087 ],\n",
       "       [ 567.532   ,  370.49088 ,  291.05267 ]], dtype=float32)"
      ]
     },
     "execution_count": 148,
     "metadata": {},
     "output_type": "execute_result"
    }
   ],
   "source": [
    "pdr_landmarks"
   ]
  },
  {
   "cell_type": "code",
   "execution_count": null,
   "metadata": {},
   "outputs": [],
   "source": []
  }
 ],
 "metadata": {
  "interpreter": {
   "hash": "06cf0ec498029f8561fed56a63f8d355b89e528f84c190c1f9869c0e1c0421ca"
  },
  "kernelspec": {
   "display_name": "Python 3.8.12 ('tf')",
   "language": "python",
   "name": "python3"
  },
  "language_info": {
   "codemirror_mode": {
    "name": "ipython",
    "version": 3
   },
   "file_extension": ".py",
   "mimetype": "text/x-python",
   "name": "python",
   "nbconvert_exporter": "python",
   "pygments_lexer": "ipython3",
   "version": "3.8.10"
  },
  "orig_nbformat": 4
 },
 "nbformat": 4,
 "nbformat_minor": 2
}
